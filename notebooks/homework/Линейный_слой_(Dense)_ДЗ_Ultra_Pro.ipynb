{
  "cells": [
    {
      "cell_type": "markdown",
      "metadata": {
        "id": "swEDUwU6-S8x"
      },
      "source": [
        "## Задание"
      ]
    },
    {
      "cell_type": "markdown",
      "metadata": {
        "id": "fMJUXp5d-flR"
      },
      "source": [
        "Распознайте рукописную цифру, написанную на листе от руки.\n",
        "Последовательность шагов следующая:\n",
        "\n",
        "*   На бумаге рисуем произвольную цифру (желательно нарисовать цифру размером не\n",
        "более 5 * 5 мм и без наклона. В занятии нейронка обучалась на цифрах американских студентов. Эти цифры были написаны на тетрадных листах в клетку и имели схожий размер).\n",
        "*   Фотографируем. Загружаем фото в Collaboratory.\n",
        "*   С помощью функции image.load_img(path, target_size=(28, 28), color_mode = ‘grayscale’) загружаем картинку в переменную.\n",
        "*   С помощью функции image.img_to_array(img) преобразуем изображение в numpy-массив.\n",
        "*   Выполняем инверсию цветов, нормирование и решейп массива.\n",
        "*   Выполняем распознавание собственной рукописной цифры.\n",
        "\n",
        "Примечание: точность распознавания рукописных цифр может быть достаточно низкой, т.к. рукописные цифры после преобразований хоть и похожи на содержащиеся в базе, но могут отличаться по конфигурации, толщине линий и т.д.\n"
      ]
    },
    {
      "cell_type": "code",
      "execution_count": 40,
      "metadata": {},
      "outputs": [],
      "source": [
        "# Вывод изображения в ноутбуке, а не в консоли или файле\n",
        "%matplotlib inline"
      ]
    },
    {
      "cell_type": "markdown",
      "metadata": {},
      "source": [
        "### <b> Подключим библиотеки:"
      ]
    },
    {
      "cell_type": "code",
      "execution_count": 41,
      "metadata": {},
      "outputs": [],
      "source": [
        "# Подключение библиотеки для работы с массивами\n",
        "import numpy as np\n",
        "# Подключение библиотек для отрисовки изображений\n",
        "import matplotlib.pyplot as plt\n",
        "\n",
        "# Подключение библиотеки для загрузки изображений\n",
        "from tensorflow.keras.preprocessing import image\n",
        "# Подключение библиотеки для загрузки готовых моделей\n",
        "from tensorflow.keras.models import load_model"
      ]
    },
    {
      "cell_type": "markdown",
      "metadata": {},
      "source": [
        "### <b> Загрузим ранее полученную в практическом ноутбуке натренированную модель:"
      ]
    },
    {
      "cell_type": "code",
      "execution_count": 42,
      "metadata": {},
      "outputs": [
        {
          "name": "stdout",
          "output_type": "stream",
          "text": [
            "Model: \"sequential_11\"\n",
            "_________________________________________________________________\n",
            " Layer (type)                Output Shape              Param #   \n",
            "=================================================================\n",
            " dense_25 (Dense)            (None, 800)               628000    \n",
            "                                                                 \n",
            " dense_26 (Dense)            (None, 400)               320400    \n",
            "                                                                 \n",
            " dense_27 (Dense)            (None, 10)                4010      \n",
            "                                                                 \n",
            "=================================================================\n",
            "Total params: 952410 (3.63 MB)\n",
            "Trainable params: 952410 (3.63 MB)\n",
            "Non-trainable params: 0 (0.00 Byte)\n",
            "_________________________________________________________________\n"
          ]
        }
      ],
      "source": [
        "savedModel=load_model('model_full.h5')\n",
        "savedModel.summary()"
      ]
    },
    {
      "cell_type": "markdown",
      "metadata": {},
      "source": [
        "Загрузим картинку, преобразуем её в массив и выведим для проверки:"
      ]
    },
    {
      "cell_type": "code",
      "execution_count": 43,
      "metadata": {},
      "outputs": [
        {
          "data": {
            "text/plain": [
              "<matplotlib.image.AxesImage at 0x1d4b4b08670>"
            ]
          },
          "execution_count": 43,
          "metadata": {},
          "output_type": "execute_result"
        },
        {
          "data": {
            "image/png": "[encoded data removed]",
            "text/plain": [
              "<Figure size 640x480 with 1 Axes>"
            ]
          },
          "metadata": {},
          "output_type": "display_data"
        }
      ],
      "source": [
        "# Функцией image загружаем изображение\n",
        "temp = image.load_img('cifra.jpg', target_size=(28, 28), color_mode = 'grayscale')\n",
        "\n",
        "# Переводим картинку в массив\n",
        "img_array = image.img_to_array(temp)\n",
        "\n",
        "# Выводим картинку для проверки\n",
        "plt.imshow(img_array, cmap='gray')"
      ]
    },
    {
      "cell_type": "markdown",
      "metadata": {},
      "source": [
        "### <b> Предобработка изображения и его распознавание </b>\n",
        "Проведем операции по инвертированию и нормализации изображения, запустим распознавание"
      ]
    },
    {
      "cell_type": "code",
      "execution_count": 44,
      "metadata": {
        "id": "lDCR1UFdqPUb"
      },
      "outputs": [
        {
          "name": "stdout",
          "output_type": "stream",
          "text": [
            "(1, 784)\n",
            "1/1 [==============================] - 0s 45ms/step\n",
            "[[3.4045431e-01 3.6438900e-07 1.2898462e-06 1.6242706e-05 3.6449865e-08\n",
            "  1.8661158e-02 6.4059156e-01 2.7418172e-04 5.3755502e-07 3.5627394e-07]]\n",
            "Распознана цифра: 6\n"
          ]
        },
        {
          "data": {
            "image/png": "[encoded data removed]",
            "text/plain": [
              "<Figure size 640x480 with 1 Axes>"
            ]
          },
          "metadata": {},
          "output_type": "display_data"
        }
      ],
      "source": [
        "# Инвертируем картинку\n",
        "inverted_img_array = 255 - img_array\n",
        "\n",
        "# Выводим картинку для проверки\n",
        "plt.imshow(inverted_img_array, cmap='gray')\n",
        "\n",
        "# # Добавление одной оси в начале\n",
        "inverted_img_array = np.expand_dims(inverted_img_array, axis=0)\n",
        "\n",
        "# Изменение формы входных картинок с 28х28 на 784\n",
        "img_array_reshaped = img_array.reshape(inverted_img_array.shape[0], -1)\n",
        "\n",
        "# Нормализация картинки\n",
        "# Преобразование x_train в тип float32 (числа с плавающей точкой) и нормализация\n",
        "img_array_reshaped = img_array_reshaped.astype('float32') / 255.\n",
        "print(img_array_reshaped.shape)\n",
        "\n",
        "# Распознавание картинки\n",
        "prediction = savedModel.predict(img_array_reshaped)\n",
        "\n",
        "# Вывод результата - вектор из 10 чисел\n",
        "print(prediction)\n",
        "\n",
        "# Получение и вывод индекса самого большого элемента\n",
        "pred = np.argmax(prediction)\n",
        "print(f'Распознана цифра: {pred}')"
      ]
    },
    {
      "cell_type": "code",
      "execution_count": null,
      "metadata": {},
      "outputs": [],
      "source": []
    }
  ],
  "metadata": {
    "colab": {
      "provenance": []
    },
    "kernelspec": {
      "display_name": "Python 3",
      "name": "python3"
    },
    "language_info": {
      "codemirror_mode": {
        "name": "ipython",
        "version": 3
      },
      "file_extension": ".py",
      "mimetype": "text/x-python",
      "name": "python",
      "nbconvert_exporter": "python",
      "pygments_lexer": "ipython3",
      "version": "3.10.6"
    }
  },
  "nbformat": 4,
  "nbformat_minor": 0
}
